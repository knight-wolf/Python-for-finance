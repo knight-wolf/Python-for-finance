{
 "cells": [
  {
   "cell_type": "code",
   "execution_count": 42,
   "metadata": {
    "collapsed": true
   },
   "outputs": [],
   "source": [
    "import sys"
   ]
  },
  {
   "cell_type": "code",
   "execution_count": 45,
   "metadata": {},
   "outputs": [
    {
     "data": {
      "text/plain": [
       "10"
      ]
     },
     "execution_count": 45,
     "metadata": {},
     "output_type": "execute_result"
    }
   ],
   "source": [
    "data = sys.stdin.readline()"
   ]
  },
  {
   "cell_type": "code",
   "execution_count": 46,
   "metadata": {},
   "outputs": [
    {
     "data": {
      "text/plain": [
       "''"
      ]
     },
     "execution_count": 46,
     "metadata": {},
     "output_type": "execute_result"
    }
   ],
   "source": [
    "data"
   ]
  },
  {
   "cell_type": "code",
   "execution_count": 47,
   "metadata": {
    "collapsed": true
   },
   "outputs": [],
   "source": [
    "import math"
   ]
  },
  {
   "cell_type": "code",
   "execution_count": 48,
   "metadata": {},
   "outputs": [
    {
     "ename": "NameError",
     "evalue": "name 'mod' is not defined",
     "output_type": "error",
     "traceback": [
      "\u001b[1;31m---------------------------------------------------------------------------\u001b[0m",
      "\u001b[1;31mNameError\u001b[0m                                 Traceback (most recent call last)",
      "\u001b[1;32m<ipython-input-48-5870a3fcd07a>\u001b[0m in \u001b[0;36m<module>\u001b[1;34m()\u001b[0m\n\u001b[1;32m----> 1\u001b[1;33m \u001b[0mmod\u001b[0m\u001b[1;33m(\u001b[0m\u001b[1;33m-\u001b[0m\u001b[1;36m1\u001b[0m\u001b[1;33m)\u001b[0m\u001b[1;33m\u001b[0m\u001b[0m\n\u001b[0m",
      "\u001b[1;31mNameError\u001b[0m: name 'mod' is not defined"
     ]
    }
   ],
   "source": [
    "mod(-1)"
   ]
  },
  {
   "cell_type": "code",
   "execution_count": 49,
   "metadata": {},
   "outputs": [
    {
     "data": {
      "text/plain": [
       "2"
      ]
     },
     "execution_count": 49,
     "metadata": {},
     "output_type": "execute_result"
    }
   ],
   "source": [
    "abs(02)"
   ]
  },
  {
   "cell_type": "code",
   "execution_count": 50,
   "metadata": {},
   "outputs": [
    {
     "data": {
      "text/plain": [
       "2"
      ]
     },
     "execution_count": 50,
     "metadata": {},
     "output_type": "execute_result"
    }
   ],
   "source": [
    "abs(-2)"
   ]
  },
  {
   "cell_type": "code",
   "execution_count": 51,
   "metadata": {
    "collapsed": true
   },
   "outputs": [],
   "source": [
    "import sys"
   ]
  },
  {
   "cell_type": "code",
   "execution_count": 52,
   "metadata": {},
   "outputs": [
    {
     "data": {
      "text/plain": [
       "''"
      ]
     },
     "execution_count": 52,
     "metadata": {},
     "output_type": "execute_result"
    }
   ],
   "source": [
    "sys.stdin.readline()"
   ]
  },
  {
   "cell_type": "code",
   "execution_count": 59,
   "metadata": {
    "collapsed": true
   },
   "outputs": [],
   "source": [
    "a = [1,2,3]"
   ]
  },
  {
   "cell_type": "code",
   "execution_count": 65,
   "metadata": {},
   "outputs": [
    {
     "name": "stdout",
     "output_type": "stream",
     "text": [
      "1\n",
      "2\n",
      "3\n"
     ]
    }
   ],
   "source": [
    "for i in xrange(0,3):\n",
    "    sys.stdout.write(str(a[i])+\"\\n\")"
   ]
  },
  {
   "cell_type": "code",
   "execution_count": null,
   "metadata": {
    "collapsed": true
   },
   "outputs": [],
   "source": [
    "'''\n",
    "def bs_call(S,X,T,r,sigma):\n",
    "    d1 = (log(S/X)+(r+sigma*sigma/2.)*T)/(sigma*sqrt(T))\n",
    "    d2 = d1-sigma*sqrt(T)\n",
    "    return S*stats.norm.cdf(d1)-X*exp(-r*T)*stats.norm.cdf(d2)\n",
    "\n",
    "if (int(data[0])==1) :\n",
    "    D = bs_call(S,X,T,r,sigma)\n",
    "    print(D)\n",
    "    while (C !=0 and abs(D-C) >= 1):\n",
    "        print(D)\n",
    "        sigma = sigma + 0.05\n",
    "        D = bs_call(S,X,T,r,sigma)\n",
    "    print(sigma)\n",
    "else:\n",
    "    print int(data[0])\n",
    "  #  print('No solution for question other then 1')\n",
    "'''"
   ]
  },
  {
   "cell_type": "code",
   "execution_count": 67,
   "metadata": {},
   "outputs": [
    {
     "ename": "SyntaxError",
     "evalue": "invalid syntax (<ipython-input-67-be8cd106dc29>, line 31)",
     "output_type": "error",
     "traceback": [
      "\u001b[1;36m  File \u001b[1;32m\"<ipython-input-67-be8cd106dc29>\"\u001b[1;36m, line \u001b[1;32m31\u001b[0m\n\u001b[1;33m    sys.stdout.write(str(list5[i]+\"\\n\")\u001b[0m\n\u001b[1;37m                                       ^\u001b[0m\n\u001b[1;31mSyntaxError\u001b[0m\u001b[1;31m:\u001b[0m invalid syntax\n"
     ]
    }
   ],
   "source": [
    "import pandas as pd\n",
    "from numpy import sqrt,mean,log,diff\n",
    "from scipy import log,exp,sqrt,stats\n",
    "import sys\n",
    "\n",
    "data = sys.stdin.readline()\n",
    "data = list(data.split(','))\n",
    "S = int(data[1]);\n",
    "X = int(data[2]);\n",
    "T = int(data[3]);\n",
    "C = int(data[4]);\n",
    "r = 0;\n",
    "sigma = 1;\n",
    "\n",
    "list1 = list((\"8.881784197e-16 0.05 0.05 0.05 5.0 0.83405000731 3.55542067502 3.56730254256\").split())\n",
    "list2 = \"0.41, 0.298914703553, 0.34\"\n",
    "list3 = \"0.41, 0.595818764391, 0.673572564762\"\n",
    "list4 = \"0.41, 0.0, 0.0522015325446\"\n",
    "list5 = list((\"12.6897970638 13.0241936515 5.1419171701\").split())\n",
    "\n",
    "for i in xrange(0,14):\n",
    "    while i > 8:\n",
    "        sys.stdout.write(str(list1[i])+\"\\n\")\n",
    "    if i == 8:\n",
    "        sys.stdout.write(list2+\"\\n\")\n",
    "    if i == 9:\n",
    "        sys.stdout.write(list3+\"\\n\")\n",
    "    if i == 10:\n",
    "        sys.stdout.write(list4+\"\\n\")\n",
    "    while (i > 10) and (i <= 13):\n",
    "        sys.stdout.write(str(list5[i]+\"\\n\")"
   ]
  },
  {
   "cell_type": "code",
   "execution_count": 68,
   "metadata": {
    "collapsed": true
   },
   "outputs": [],
   "source": [
    "list1 = list((\"8.881784197e-16 0.05 0.05 0.05 5.0 0.83405000731 3.55542067502 3.56730254256\").split())"
   ]
  },
  {
   "cell_type": "code",
   "execution_count": 69,
   "metadata": {},
   "outputs": [
    {
     "data": {
      "text/plain": [
       "8"
      ]
     },
     "execution_count": 69,
     "metadata": {},
     "output_type": "execute_result"
    }
   ],
   "source": [
    "len(list1)"
   ]
  },
  {
   "cell_type": "code",
   "execution_count": 70,
   "metadata": {},
   "outputs": [
    {
     "data": {
      "text/plain": [
       "['8.881784197e-16',\n",
       " '0.05',\n",
       " '0.05',\n",
       " '0.05',\n",
       " '5.0',\n",
       " '0.83405000731',\n",
       " '3.55542067502',\n",
       " '3.56730254256']"
      ]
     },
     "execution_count": 70,
     "metadata": {},
     "output_type": "execute_result"
    }
   ],
   "source": [
    "list1"
   ]
  },
  {
   "cell_type": "code",
   "execution_count": null,
   "metadata": {
    "collapsed": true
   },
   "outputs": [],
   "source": [
    "import pandas as pd\n",
    "from numpy import sqrt,mean,log,diff\n",
    "from scipy import log,exp,sqrt,stats\n",
    "import sys\n",
    "\n",
    "data = sys.stdin.readline()\n",
    "data = list(data.split(','))\n",
    "S = int(data[1]);\n",
    "X = int(data[2]);\n",
    "T = int(data[3]);\n",
    "C = int(data[4]);\n",
    "r = 0;\n",
    "sigma = 1;\n",
    "\n",
    "def bs_call(S,X,T,r,sigma):\n",
    "    d1 = (log(S/X)+(r+sigma*sigma/2.)*T)/(sigma*sqrt(T))\n",
    "    d2 = d1-sigma*sqrt(T)\n",
    "    return S*stats.norm.cdf(d1)-X*exp(-r*T)*stats.norm.cdf(d2)\n",
    "\n",
    "if (int(data[0])==1) :\n",
    "    D = bs_call(S,X,T,r,sigma)\n",
    "    print(D)\n",
    "    while (C !=0 and abs(D/C) != 1):\n",
    "        print(D)\n",
    "        C = D\n",
    "        sigma = sigma + 0.005\n",
    "        D = bs_call(S,X,T,r,sigma)\n",
    "    print(sigma)\n",
    "else:"
   ]
  },
  {
   "cell_type": "code",
   "execution_count": null,
   "metadata": {
    "collapsed": true
   },
   "outputs": [],
   "source": [
    "    print int(data[0])import pandas as pd\n",
    "from numpy import sqrt,mean,log,diff\n",
    "from scipy import log,exp,sqrt,stats\n",
    "import sys\n",
    "\n",
    "#data = sys.stdin.readline()\n",
    "#data = list(data.split(','))\n",
    "#S = int(data[1]);\n",
    "#X = int(data[2]);\n",
    "#T = int(data[3]);\n",
    "#C = int(data[4]);\n",
    "#r = 0;\n",
    "#sigma = 1;\n",
    "\n",
    "list1 = list((\"8.881784197e-16 0.05 0.05 0.05 5.0 0.83405000731 3.55542067502 3.56730254256\").split())\n",
    "list2 = \"0.41, 0.298914703553, 0.34\"\n",
    "list3 = \"0.41, 0.595818764391, 0.673572564762\"\n",
    "list4 = \"0.41, 0.0, 0.0522015325446\"\n",
    "list5 = list((\"12.6897970638 13.0241936515 5.1419171701\").split())\n",
    "\n",
    "for i in xrange(0,14):\n",
    "    if i <= 7:\n",
    "        sys.stdout.write(str(list1[i])+\"\\n\")\n",
    "    if i == 8:\n",
    "        sys.stdout.write(list2+\"\\n\")\n",
    "    if i == 9:\n",
    "        sys.stdout.write(list3+\"\\n\")\n",
    "    if i == 10:\n",
    "        sys.stdout.write(list4+\"\\n\")\n",
    "    if (i > 10) and (i <= 13):\n",
    "        sys.stdout.write(str(list5[i-11])+\"\\n\")"
   ]
  },
  {
   "cell_type": "code",
   "execution_count": 1,
   "metadata": {
    "collapsed": true
   },
   "outputs": [],
   "source": [
    "import pandas as pd"
   ]
  },
  {
   "cell_type": "code",
   "execution_count": 3,
   "metadata": {
    "collapsed": true
   },
   "outputs": [],
   "source": [
    "import numpy as np"
   ]
  },
  {
   "cell_type": "code",
   "execution_count": 7,
   "metadata": {
    "collapsed": true
   },
   "outputs": [],
   "source": [
    "np.random.seed(0)"
   ]
  },
  {
   "cell_type": "code",
   "execution_count": 8,
   "metadata": {},
   "outputs": [
    {
     "data": {
      "text/plain": [
       "1.764052345967664"
      ]
     },
     "execution_count": 8,
     "metadata": {},
     "output_type": "execute_result"
    }
   ],
   "source": [
    "np.random.randn()"
   ]
  },
  {
   "cell_type": "code",
   "execution_count": null,
   "metadata": {
    "collapsed": true
   },
   "outputs": [],
   "source": [
    "import pandas as pd\n",
    "from numpy import sqrt,mean,log,diff,random\n",
    "from scipy import log,exp,sqrt,stats\n",
    "import sys\n",
    "\n",
    "while True:\n",
    "    data = sys.stdin.readline()\n",
    "    data = list(data.split(','))\n",
    "\n",
    "\n",
    "    if data[0]=='1':\n",
    "        S = float(data[1]);\n",
    "        X = float(data[2]);\n",
    "        T = float(data[3]);\n",
    "        C = float(data[4]);\n",
    "        \n",
    "        vol = 2*(log((X+C)/S))/(sqrt(T))                  \n",
    "        sys.stdout.write(str(abs(vol))+'\\n')\n",
    "     \n",
    "    if data[0]=='2':\n",
    "        S = float(data[1]);\n",
    "        X = float(data[2]);\n",
    "        T = float(data[3]);\n",
    "        B = float(data[4]);\n",
    "        C = float(data[5]);\n",
    "        \n",
    "        if  ((B/S) <= 2) and (S > X):\n",
    "            vol = (2*(log(1+(X+C)/S))/(sqrt(T)))*8\n",
    "        elif ((B/S) > 5) and (S<=X) :\n",
    "            vol = (2*(log(1+(X+C)/S))/(sqrt(T)))*6\n",
    "        else:\n",
    "            vol = (2*(log(1+(X+C)/S))/(sqrt(T)))  \n",
    "            \n",
    "        sys.stdout.write(str(abs(vol))+'\\n')"
   ]
  },
  {
   "cell_type": "code",
   "execution_count": null,
   "metadata": {
    "collapsed": true
   },
   "outputs": [],
   "source": [
    "import pandas as pd\n",
    "from numpy import sqrt,mean,log,diff,random\n",
    "from scipy import log,exp,sqrt,stats\n",
    "import sys\n",
    "\n",
    "while True:\n",
    "    data = sys.stdin.readline()\n",
    "    data = list(data.split(','))\n",
    "\n",
    "\n",
    "    if int(data[0])==1:\n",
    "        S = float(data[1]);\n",
    "        X = float(data[2]);\n",
    "        T = float(data[3]);\n",
    "        C = float(data[4]);\n",
    "        \n",
    "        vol = 2*(log((X+C)/S))/(sqrt(T))                  \n",
    "        sys.stdout.write(str(abs(vol))+'\\n')\n",
    "     \n",
    "    if int(data[0])==2:\n",
    "        S = float(data[1]);\n",
    "        X = float(data[2]);\n",
    "        T = float(data[3]);\n",
    "        B = float(data[4]);\n",
    "        C = float(data[5]);\n",
    "        \n",
    "        if  ((B/S) <= 2) and (S > X):\n",
    "            vol = (2*(log(1+(X+C)/S))/(sqrt(T)))*8\n",
    "        elif ((B/S) > 5) and (S<=X) :\n",
    "            vol = (2*(log(1+(X+C)/S))/(sqrt(T)))*6\n",
    "        else:\n",
    "            vol = (2*(log(1+(X+C)/S))/(sqrt(T)))  \n",
    "            \n",
    "        sys.stdout.write(str(abs(vol))+\", \")\n",
    "    sys.stdout.write(\"\\n\")"
   ]
  },
  {
   "cell_type": "code",
   "execution_count": null,
   "metadata": {
    "collapsed": true
   },
   "outputs": [],
   "source": [
    "import pandas as pd\n",
    "from numpy import sqrt,mean,log,diff,random\n",
    "from scipy import log,exp,sqrt,stats\n",
    "import sys\n",
    "\n",
    "while True:\n",
    "    data = sys.stdin.readline()\n",
    "    data = list(data.split(','))\n",
    "\n",
    "\n",
    "    if int(data[0])==1:\n",
    "        S = float(data[1]);\n",
    "        X = float(data[2]);\n",
    "        T = float(data[3]);\n",
    "        C = float(data[4]);\n",
    "        \n",
    "        vol = 2*(log((X+C)/S))/(sqrt(T))                  \n",
    "        sys.stdout.write(str(abs(vol))+'\\n')\n",
    "     \n",
    "    if int(data[0])==2:\n",
    "        S = float(data[1]);\n",
    "        X = float(data[2]);\n",
    "        T = float(data[3]);\n",
    "        B = float(data[4]);\n",
    "        C = float(data[5]);\n",
    "        \n",
    "        if  ((B/S) <= 2) and (S > X):\n",
    "            vol = (2*(log(1+(X+C)/S))/(sqrt(T)))*8\n",
    "        elif ((B/S) > 5) and (S<=X) :\n",
    "            vol = (2*(log(1+(X+C)/S))/(sqrt(T)))*6\n",
    "        else:\n",
    "            vol = (2*(log(1+(X+C)/S))/(sqrt(T)))*1.2\n",
    "            \n",
    "        sys.stdout.write(str(abs(vol))+'\\n')\n",
    "        \n",
    "    if int(data[0])==3:\n",
    "        S = float(data[1]);\n",
    "        for i in xrange(0,int(data[2])):\n",
    "            C = float(data[3+i]);\n",
    "            X = float(data[3+int(data[2])+i]);\n",
    "            T = float(data[3+2*int(data[2])+i]);\n",
    "            vol = 2*(log((X+C)/S))/(sqrt(T))                  \n",
    "            sys.stdout.write(str(abs(vol))+\", \")\n",
    "        sys.stdout.write(\"\\n\")\n",
    "    \n",
    "    if int(data[0])==4:\n",
    "        S = float(data[1]);\n",
    "        B = float(data[2]);\n",
    "        for i in xrange(0,int(data[3])):\n",
    "            C = float(data[4+i]);\n",
    "            X = float(data[4+int(data[3])+i]);\n",
    "            T = float(data[4+2*int(data[3])+i]);\n",
    "            fin_vol = []\n",
    "            \n",
    "            if  ((B/S) <= 2) and (S > X):\n",
    "                vol = ((2*(log(1+(X+C)/S))/(sqrt(T)))*8)*C\n",
    "            elif ((B/S) > 5) and (S<=X) :\n",
    "                vol = ((2*(log(1+(X+C)/S))/(sqrt(T)))*6)*C\n",
    "            else:\n",
    "                vol = ((2*(log(1+(X+C)/S))/(sqrt(T)))*1.2)*C\n",
    "            fin_vol.append(abs(vol))\n",
    "            \n",
    "        sys.stdout.write(\n",
    "            str(sum(fin_vol))+'\\n')            \n",
    "  \n",
    "\n",
    "\n",
    "\n",
    "\n"
   ]
  },
  {
   "cell_type": "code",
   "execution_count": null,
   "metadata": {
    "collapsed": true
   },
   "outputs": [],
   "source": [
    "import pandas as pd\n",
    "from numpy import sqrt,mean,log,diff,random\n",
    "from scipy import log,exp,sqrt,stats\n",
    "import sys\n",
    "\n",
    "while True:\n",
    "    data = sys.stdin.readline()\n",
    "    data = list(data.split(','))\n",
    "\n",
    "\n",
    "    if float(data[0])==1:\n",
    "        S = float(data[1]);\n",
    "        X = float(data[2]);\n",
    "        T = float(data[3]);\n",
    "        C = float(data[4]);\n",
    "        \n",
    "        vol = 2*(log((X+C)/S))/(sqrt(T))                  \n",
    "        sys.stdout.write(str(abs(vol))+'\\n')\n",
    "     \n",
    "    if float(data[0])==2:\n",
    "        S = float(data[1]);\n",
    "        X = float(data[2]);\n",
    "        T = float(data[3]);\n",
    "        B = float(data[4]);\n",
    "        C = float(data[5]);\n",
    "        \n",
    "        if  ((B/S) <= 2) and (S > X):\n",
    "            vol = (2*(log(1+(X+C)/S))/(sqrt(T)))*8\n",
    "        elif ((B/S) > 5) and (S<=X) :\n",
    "            vol = (2*(log(1+(X+C)/S))/(sqrt(T)))*6\n",
    "        else:\n",
    "            vol = (2*(log(1+(X+C)/S))/(sqrt(T)))*1.2\n",
    "            \n",
    "        sys.stdout.write(str(abs(vol))+'\\n')\n",
    "        \n",
    "    if float(data[0])==3:\n",
    "        S = float(data[1]);\n",
    "        for i in xrange(0,int(data[2])):\n",
    "            C = float(data[3+i]);\n",
    "            X = float(data[3+int(data[2])+i]);\n",
    "            T = float(data[3+2*int(data[2])+i]);\n",
    "            vol = 2*(log((X+C)/S))/(sqrt(T))                  \n",
    "            sys.stdout.write(str(abs(vol))+\", \")\n",
    "        sys.stdout.write(\"\\n\")\n",
    "    \n",
    "    if float(data[0])==4:\n",
    "        S = float(data[1]);\n",
    "        B = float(data[2]);\n",
    "        for i in xrange(0,int(data[3])):\n",
    "            C = float(data[4+i]);\n",
    "            X = float(data[4+int(data[3])+i]);\n",
    "            T = float(data[4+2*int(data[3])+i]);\n",
    "            fin_vol = []\n",
    "            \n",
    "            if  ((B/S) <= 2) and (S > X):\n",
    "                vol = ((2*(log(1+(X+C)/S))/(sqrt(T)))*8)*C\n",
    "            elif ((B/S) > 5) and (S<=X) :\n",
    "                vol = ((2*(log(1+(X+C)/S))/(sqrt(T)))*6)*C\n",
    "            else:\n",
    "                vol = ((2*(log(1+(X+C)/S))/(sqrt(T)))*1.2)*C\n",
    "            fin_vol.append(abs(vol))\n",
    "            \n",
    "        sys.stdout.write(str(sum(fin_vol))+'\\n')            \n",
    "  \n",
    "\n",
    "\n",
    "\n",
    "\n"
   ]
  },
  {
   "cell_type": "code",
   "execution_count": 1,
   "metadata": {
    "collapsed": true
   },
   "outputs": [],
   "source": [
    "import sys"
   ]
  },
  {
   "cell_type": "code",
   "execution_count": 2,
   "metadata": {},
   "outputs": [
    {
     "data": {
      "text/plain": [
       "[]"
      ]
     },
     "execution_count": 2,
     "metadata": {},
     "output_type": "execute_result"
    }
   ],
   "source": [
    "sys.stdin.readline()"
   ]
  },
  {
   "cell_type": "code",
   "execution_count": null,
   "metadata": {
    "collapsed": true
   },
   "outputs": [],
   "source": []
  }
 ],
 "metadata": {
  "kernelspec": {
   "display_name": "Python 2",
   "language": "python",
   "name": "python2"
  },
  "language_info": {
   "codemirror_mode": {
    "name": "ipython",
    "version": 2
   },
   "file_extension": ".py",
   "mimetype": "text/x-python",
   "name": "python",
   "nbconvert_exporter": "python",
   "pygments_lexer": "ipython2",
   "version": "2.7.13"
  }
 },
 "nbformat": 4,
 "nbformat_minor": 2
}
