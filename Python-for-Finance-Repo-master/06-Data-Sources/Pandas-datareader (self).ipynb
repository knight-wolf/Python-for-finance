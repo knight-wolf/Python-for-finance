{
 "cells": [
  {
   "cell_type": "code",
   "execution_count": 2,
   "metadata": {},
   "outputs": [],
   "source": [
    "import pandas_datareader.data as web"
   ]
  },
  {
   "cell_type": "code",
   "execution_count": 3,
   "metadata": {
    "collapsed": true
   },
   "outputs": [],
   "source": [
    "import datetime"
   ]
  },
  {
   "cell_type": "code",
   "execution_count": 4,
   "metadata": {
    "collapsed": true
   },
   "outputs": [],
   "source": [
    "start = datetime.datetime(2015,1,1)\n",
    "end = datetime.datetime(2017,1,1)"
   ]
  },
  {
   "cell_type": "code",
   "execution_count": 5,
   "metadata": {
    "collapsed": true
   },
   "outputs": [],
   "source": [
    "facebook = web.DataReader('FB','google',start,end)"
   ]
  },
  {
   "cell_type": "code",
   "execution_count": 6,
   "metadata": {},
   "outputs": [
    {
     "data": {
      "text/html": [
       "<div>\n",
       "<style>\n",
       "    .dataframe thead tr:only-child th {\n",
       "        text-align: right;\n",
       "    }\n",
       "\n",
       "    .dataframe thead th {\n",
       "        text-align: left;\n",
       "    }\n",
       "\n",
       "    .dataframe tbody tr th {\n",
       "        vertical-align: top;\n",
       "    }\n",
       "</style>\n",
       "<table border=\"1\" class=\"dataframe\">\n",
       "  <thead>\n",
       "    <tr style=\"text-align: right;\">\n",
       "      <th></th>\n",
       "      <th>Open</th>\n",
       "      <th>High</th>\n",
       "      <th>Low</th>\n",
       "      <th>Close</th>\n",
       "      <th>Volume</th>\n",
       "    </tr>\n",
       "    <tr>\n",
       "      <th>Date</th>\n",
       "      <th></th>\n",
       "      <th></th>\n",
       "      <th></th>\n",
       "      <th></th>\n",
       "      <th></th>\n",
       "    </tr>\n",
       "  </thead>\n",
       "  <tbody>\n",
       "    <tr>\n",
       "      <th>2016-09-19</th>\n",
       "      <td>129.91</td>\n",
       "      <td>129.94</td>\n",
       "      <td>128.26</td>\n",
       "      <td>128.65</td>\n",
       "      <td>14958794</td>\n",
       "    </tr>\n",
       "    <tr>\n",
       "      <th>2016-09-20</th>\n",
       "      <td>128.65</td>\n",
       "      <td>129.17</td>\n",
       "      <td>128.03</td>\n",
       "      <td>128.64</td>\n",
       "      <td>11083808</td>\n",
       "    </tr>\n",
       "    <tr>\n",
       "      <th>2016-09-21</th>\n",
       "      <td>129.13</td>\n",
       "      <td>130.00</td>\n",
       "      <td>128.39</td>\n",
       "      <td>129.94</td>\n",
       "      <td>14068336</td>\n",
       "    </tr>\n",
       "    <tr>\n",
       "      <th>2016-09-22</th>\n",
       "      <td>130.50</td>\n",
       "      <td>130.73</td>\n",
       "      <td>129.56</td>\n",
       "      <td>130.08</td>\n",
       "      <td>15538307</td>\n",
       "    </tr>\n",
       "    <tr>\n",
       "      <th>2016-09-23</th>\n",
       "      <td>127.56</td>\n",
       "      <td>128.60</td>\n",
       "      <td>127.30</td>\n",
       "      <td>127.96</td>\n",
       "      <td>28326266</td>\n",
       "    </tr>\n",
       "  </tbody>\n",
       "</table>\n",
       "</div>"
      ],
      "text/plain": [
       "              Open    High     Low   Close    Volume\n",
       "Date                                                \n",
       "2016-09-19  129.91  129.94  128.26  128.65  14958794\n",
       "2016-09-20  128.65  129.17  128.03  128.64  11083808\n",
       "2016-09-21  129.13  130.00  128.39  129.94  14068336\n",
       "2016-09-22  130.50  130.73  129.56  130.08  15538307\n",
       "2016-09-23  127.56  128.60  127.30  127.96  28326266"
      ]
     },
     "execution_count": 6,
     "metadata": {},
     "output_type": "execute_result"
    }
   ],
   "source": [
    "facebook.head()"
   ]
  },
  {
   "cell_type": "code",
   "execution_count": 7,
   "metadata": {},
   "outputs": [
    {
     "data": {
      "text/plain": [
       "251"
      ]
     },
     "execution_count": 7,
     "metadata": {},
     "output_type": "execute_result"
    }
   ],
   "source": [
    "len(facebook)"
   ]
  },
  {
   "cell_type": "code",
   "execution_count": 10,
   "metadata": {
    "collapsed": true
   },
   "outputs": [],
   "source": [
    "from pandas_datareader.data import Options\n",
    "fb_options = Options('FB','google')"
   ]
  },
  {
   "cell_type": "code",
   "execution_count": 11,
   "metadata": {},
   "outputs": [],
   "source": [
    "options_df = fb_Options.get_options_data(expiry=fb_options.expiry_dates[0])"
   ]
  },
  {
   "cell_type": "code",
   "execution_count": 12,
   "metadata": {},
   "outputs": [
    {
     "data": {
      "text/html": [
       "<div>\n",
       "<style>\n",
       "    .dataframe thead tr:only-child th {\n",
       "        text-align: right;\n",
       "    }\n",
       "\n",
       "    .dataframe thead th {\n",
       "        text-align: left;\n",
       "    }\n",
       "\n",
       "    .dataframe tbody tr th {\n",
       "        vertical-align: top;\n",
       "    }\n",
       "</style>\n",
       "<table border=\"1\" class=\"dataframe\">\n",
       "  <thead>\n",
       "    <tr style=\"text-align: right;\">\n",
       "      <th></th>\n",
       "      <th></th>\n",
       "      <th></th>\n",
       "      <th></th>\n",
       "      <th>Last</th>\n",
       "      <th>Bid</th>\n",
       "      <th>Ask</th>\n",
       "      <th>Chg</th>\n",
       "      <th>PctChg</th>\n",
       "      <th>Vol</th>\n",
       "      <th>Open_Int</th>\n",
       "      <th>Root</th>\n",
       "      <th>Underlying_Price</th>\n",
       "      <th>Quote_Time</th>\n",
       "    </tr>\n",
       "    <tr>\n",
       "      <th>Strike</th>\n",
       "      <th>Expiry</th>\n",
       "      <th>Type</th>\n",
       "      <th>Symbol</th>\n",
       "      <th></th>\n",
       "      <th></th>\n",
       "      <th></th>\n",
       "      <th></th>\n",
       "      <th></th>\n",
       "      <th></th>\n",
       "      <th></th>\n",
       "      <th></th>\n",
       "      <th></th>\n",
       "      <th></th>\n",
       "    </tr>\n",
       "  </thead>\n",
       "  <tbody>\n",
       "    <tr>\n",
       "      <th rowspan=\"2\" valign=\"top\">5.0</th>\n",
       "      <th rowspan=\"2\" valign=\"top\">2018-01-19</th>\n",
       "      <th>call</th>\n",
       "      <th>FB180119C00005000</th>\n",
       "      <td>167.65</td>\n",
       "      <td>166.40</td>\n",
       "      <td>166.80</td>\n",
       "      <td>0.0</td>\n",
       "      <td>0.0</td>\n",
       "      <td>NaN</td>\n",
       "      <td>9359.0</td>\n",
       "      <td>FB</td>\n",
       "      <td>171.64</td>\n",
       "      <td>2017-09-17 13:24:39.721373</td>\n",
       "    </tr>\n",
       "    <tr>\n",
       "      <th>put</th>\n",
       "      <th>FB180119P00005000</th>\n",
       "      <td>0.01</td>\n",
       "      <td>NaN</td>\n",
       "      <td>0.03</td>\n",
       "      <td>0.0</td>\n",
       "      <td>0.0</td>\n",
       "      <td>NaN</td>\n",
       "      <td>3053.0</td>\n",
       "      <td>FB</td>\n",
       "      <td>171.64</td>\n",
       "      <td>2017-09-17 13:24:39.721373</td>\n",
       "    </tr>\n",
       "    <tr>\n",
       "      <th rowspan=\"2\" valign=\"top\">10.0</th>\n",
       "      <th rowspan=\"2\" valign=\"top\">2018-01-19</th>\n",
       "      <th>call</th>\n",
       "      <th>FB180119C00010000</th>\n",
       "      <td>161.16</td>\n",
       "      <td>161.45</td>\n",
       "      <td>161.80</td>\n",
       "      <td>0.0</td>\n",
       "      <td>0.0</td>\n",
       "      <td>NaN</td>\n",
       "      <td>2859.0</td>\n",
       "      <td>FB</td>\n",
       "      <td>171.64</td>\n",
       "      <td>2017-09-17 13:24:39.721373</td>\n",
       "    </tr>\n",
       "    <tr>\n",
       "      <th>put</th>\n",
       "      <th>FB180119P00010000</th>\n",
       "      <td>0.01</td>\n",
       "      <td>NaN</td>\n",
       "      <td>0.01</td>\n",
       "      <td>0.0</td>\n",
       "      <td>0.0</td>\n",
       "      <td>NaN</td>\n",
       "      <td>2056.0</td>\n",
       "      <td>FB</td>\n",
       "      <td>171.64</td>\n",
       "      <td>2017-09-17 13:24:39.721373</td>\n",
       "    </tr>\n",
       "    <tr>\n",
       "      <th>15.0</th>\n",
       "      <th>2018-01-19</th>\n",
       "      <th>call</th>\n",
       "      <th>FB180119C00015000</th>\n",
       "      <td>158.00</td>\n",
       "      <td>156.50</td>\n",
       "      <td>156.90</td>\n",
       "      <td>0.0</td>\n",
       "      <td>0.0</td>\n",
       "      <td>NaN</td>\n",
       "      <td>235.0</td>\n",
       "      <td>FB</td>\n",
       "      <td>171.64</td>\n",
       "      <td>2017-09-17 13:24:39.721373</td>\n",
       "    </tr>\n",
       "  </tbody>\n",
       "</table>\n",
       "</div>"
      ],
      "text/plain": [
       "                                            Last     Bid     Ask  Chg  PctChg  \\\n",
       "Strike Expiry     Type Symbol                                                   \n",
       "5.0    2018-01-19 call FB180119C00005000  167.65  166.40  166.80  0.0     0.0   \n",
       "                  put  FB180119P00005000    0.01     NaN    0.03  0.0     0.0   \n",
       "10.0   2018-01-19 call FB180119C00010000  161.16  161.45  161.80  0.0     0.0   \n",
       "                  put  FB180119P00010000    0.01     NaN    0.01  0.0     0.0   \n",
       "15.0   2018-01-19 call FB180119C00015000  158.00  156.50  156.90  0.0     0.0   \n",
       "\n",
       "                                          Vol  Open_Int Root  \\\n",
       "Strike Expiry     Type Symbol                                  \n",
       "5.0    2018-01-19 call FB180119C00005000  NaN    9359.0   FB   \n",
       "                  put  FB180119P00005000  NaN    3053.0   FB   \n",
       "10.0   2018-01-19 call FB180119C00010000  NaN    2859.0   FB   \n",
       "                  put  FB180119P00010000  NaN    2056.0   FB   \n",
       "15.0   2018-01-19 call FB180119C00015000  NaN     235.0   FB   \n",
       "\n",
       "                                          Underlying_Price  \\\n",
       "Strike Expiry     Type Symbol                                \n",
       "5.0    2018-01-19 call FB180119C00005000            171.64   \n",
       "                  put  FB180119P00005000            171.64   \n",
       "10.0   2018-01-19 call FB180119C00010000            171.64   \n",
       "                  put  FB180119P00010000            171.64   \n",
       "15.0   2018-01-19 call FB180119C00015000            171.64   \n",
       "\n",
       "                                                         Quote_Time  \n",
       "Strike Expiry     Type Symbol                                        \n",
       "5.0    2018-01-19 call FB180119C00005000 2017-09-17 13:24:39.721373  \n",
       "                  put  FB180119P00005000 2017-09-17 13:24:39.721373  \n",
       "10.0   2018-01-19 call FB180119C00010000 2017-09-17 13:24:39.721373  \n",
       "                  put  FB180119P00010000 2017-09-17 13:24:39.721373  \n",
       "15.0   2018-01-19 call FB180119C00015000 2017-09-17 13:24:39.721373  "
      ]
     },
     "execution_count": 12,
     "metadata": {},
     "output_type": "execute_result"
    }
   ],
   "source": [
    "options_df.head()"
   ]
  },
  {
   "cell_type": "code",
   "execution_count": null,
   "metadata": {
    "collapsed": true
   },
   "outputs": [],
   "source": []
  }
 ],
 "metadata": {
  "kernelspec": {
   "display_name": "Python 3",
   "language": "python",
   "name": "python3"
  },
  "language_info": {
   "codemirror_mode": {
    "name": "ipython",
    "version": 3
   },
   "file_extension": ".py",
   "mimetype": "text/x-python",
   "name": "python",
   "nbconvert_exporter": "python",
   "pygments_lexer": "ipython3",
   "version": "3.6.2"
  }
 },
 "nbformat": 4,
 "nbformat_minor": 2
}
