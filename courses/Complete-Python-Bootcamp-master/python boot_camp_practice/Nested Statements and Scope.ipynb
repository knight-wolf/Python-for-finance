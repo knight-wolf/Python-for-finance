{
 "cells": [
  {
   "cell_type": "markdown",
   "metadata": {},
   "source": [
    "# Nested Statements and Scope"
   ]
  },
  {
   "cell_type": "markdown",
   "metadata": {},
   "source": [
    "namespace"
   ]
  },
  {
   "cell_type": "markdown",
   "metadata": {},
   "source": [
    "scope"
   ]
  },
  {
   "cell_type": "code",
   "execution_count": 5,
   "metadata": {},
   "outputs": [
    {
     "name": "stdout",
     "output_type": "stream",
     "text": [
      "25\n",
      "50\n"
     ]
    }
   ],
   "source": [
    "x = 25\n",
    "\n",
    "def printer():\n",
    "    x = 50\n",
    "    return x\n",
    "print x\n",
    "print printer()    "
   ]
  },
  {
   "cell_type": "code",
   "execution_count": 6,
   "metadata": {},
   "outputs": [
    {
     "name": "stdout",
     "output_type": "stream",
     "text": [
      "50\n"
     ]
    }
   ],
   "source": [
    "print printer()"
   ]
  },
  {
   "cell_type": "code",
   "execution_count": 7,
   "metadata": {},
   "outputs": [
    {
     "name": "stdout",
     "output_type": "stream",
     "text": [
      "25\n"
     ]
    }
   ],
   "source": [
    "print x"
   ]
  },
  {
   "cell_type": "markdown",
   "metadata": {},
   "source": [
    "## Name Assignements"
   ]
  },
  {
   "cell_type": "markdown",
   "metadata": {},
   "source": [
    "## Four Scopes"
   ]
  },
  {
   "cell_type": "code",
   "execution_count": 8,
   "metadata": {
    "collapsed": true
   },
   "outputs": [],
   "source": [
    "#-local\n",
    "#-enclosing functions\n",
    "#-global\n",
    "#-built-in"
   ]
  },
  {
   "cell_type": "markdown",
   "metadata": {},
   "source": [
    "# LEGB"
   ]
  },
  {
   "cell_type": "markdown",
   "metadata": {},
   "source": [
    "# Local function"
   ]
  },
  {
   "cell_type": "code",
   "execution_count": 9,
   "metadata": {
    "collapsed": true
   },
   "outputs": [],
   "source": [
    "# x is local here:\n",
    "f = lambda x:x**2"
   ]
  },
  {
   "cell_type": "markdown",
   "metadata": {},
   "source": [
    "# Enclosing function locals"
   ]
  },
  {
   "cell_type": "code",
   "execution_count": 13,
   "metadata": {},
   "outputs": [
    {
     "name": "stdout",
     "output_type": "stream",
     "text": [
      "Hello Sammy\n"
     ]
    }
   ],
   "source": [
    "name = 'This is a global name'\n",
    "\n",
    "def greet():\n",
    "    # Enclosing function\n",
    "    name = 'Sammy'\n",
    "    \n",
    "    def hello():\n",
    "        print 'Hello ' +name\n",
    "    \n",
    "    hello()\n",
    "\n",
    "greet()"
   ]
  },
  {
   "cell_type": "code",
   "execution_count": 14,
   "metadata": {},
   "outputs": [
    {
     "name": "stdout",
     "output_type": "stream",
     "text": [
      "This is a global name\n"
     ]
    }
   ],
   "source": [
    "print name"
   ]
  },
  {
   "cell_type": "code",
   "execution_count": 15,
   "metadata": {},
   "outputs": [
    {
     "data": {
      "text/plain": [
       "<function len>"
      ]
     },
     "execution_count": 15,
     "metadata": {},
     "output_type": "execute_result"
    }
   ],
   "source": [
    "len"
   ]
  },
  {
   "cell_type": "markdown",
   "metadata": {},
   "source": [
    "# Local Variables"
   ]
  },
  {
   "cell_type": "code",
   "execution_count": 17,
   "metadata": {},
   "outputs": [
    {
     "name": "stdout",
     "output_type": "stream",
     "text": [
      "x is 50\n",
      "Changed local x to 2\n",
      "x is still 50\n"
     ]
    }
   ],
   "source": [
    "x = 50\n",
    "\n",
    "def func(x):\n",
    "    print 'x is', x\n",
    "    x = 2\n",
    "    print 'Changed local x to', x\n",
    "    \n",
    "func(x)\n",
    "print 'x is still',x"
   ]
  },
  {
   "cell_type": "code",
   "execution_count": 21,
   "metadata": {},
   "outputs": [
    {
     "name": "stdout",
     "output_type": "stream",
     "text": [
      "Before calling func(), x is:  50\n",
      "This function is now using the global x!\n",
      "Because of global x is: 50\n",
      "Ran func(), changed global x to 2\n",
      "Value of x (outside of func()) is:  2\n"
     ]
    }
   ],
   "source": [
    "x = 50\n",
    "\n",
    "def func():\n",
    "    global x\n",
    "    print 'This function is now using the global x!'\n",
    "    print 'Because of global x is:', x\n",
    "    x = 2\n",
    "    print 'Ran func(), changed global x to', x\n",
    "    \n",
    "print 'Before calling func(), x is: ', x\n",
    "func()\n",
    "print 'Value of x (outside of func()) is: ', x"
   ]
  },
  {
   "cell_type": "markdown",
   "metadata": {},
   "source": [
    "# globals() and locals() functions to check what are your current local and global variables."
   ]
  },
  {
   "cell_type": "code",
   "execution_count": 22,
   "metadata": {},
   "outputs": [
    {
     "data": {
      "text/plain": [
       "{'In': ['',\n",
       "  u'scope',\n",
       "  u'x = 25',\n",
       "  u'x = 25\\n\\ndef printer():\\n    x = 50\\n    ',\n",
       "  u'x = 25\\n\\ndef printer():\\n    x = 50\\n    return x\\n    ',\n",
       "  u'x = 25\\n\\ndef printer():\\n    x = 50\\n    return x\\nprint x\\nprint printer()    ',\n",
       "  u'print printer()',\n",
       "  u'print x',\n",
       "  u'#-local\\n#-enclosing functions\\n#-global\\n#-built-in',\n",
       "  u'# x is local here:\\nf = lambda x:x**2',\n",
       "  u\"name = 'This is a global name'\\n\\ndef greet()\",\n",
       "  u\"name = 'This is a global name'\\n\\ndef greet():\\n    # Enclosing function\\n    name = 'Sammy'\",\n",
       "  u\"name = 'This is a global name'\\n\\ndef greet():\\n    # Enclosing function\\n    name = 'Sammy'\\n    \\n    def hello():\\n        print 'Hello' +name\\n    \\n    hello()\\n\\ngreet()\",\n",
       "  u\"name = 'This is a global name'\\n\\ndef greet():\\n    # Enclosing function\\n    name = 'Sammy'\\n    \\n    def hello():\\n        print 'Hello ' +name\\n    \\n    hello()\\n\\ngreet()\",\n",
       "  u'print name',\n",
       "  u'len',\n",
       "  u\"x = 50\\n\\ndef func(x):\\n    print 'x is', x\\n    x = 2\\n    print 'Changed local x to', x\",\n",
       "  u\"x = 50\\n\\ndef func(x):\\n    print 'x is', x\\n    x = 2\\n    print 'Changed local x to', x\\n    \\nfunc(x)\\nprint 'x is still',x\",\n",
       "  u'x = 50\\n\\ndef func():',\n",
       "  u\"x = 50\\n\\ndef func():\\n    global x\\n    print 'This function is now using the global x!'\\n    print 'Because of global x is:', x\",\n",
       "  u\"x = 50\\n\\ndef func():\\n    global x\\n    print 'This function is now using the global x!'\\n    print 'Because of global x is:', x\\n    x = 2\\n    print 'Ran func(), changed global x to', x\\n    \\nprint 'Before calling func(), x is: ', x\\nfunc()\",\n",
       "  u\"x = 50\\n\\ndef func():\\n    global x\\n    print 'This function is now using the global x!'\\n    print 'Because of global x is:', x\\n    x = 2\\n    print 'Ran func(), changed global x to', x\\n    \\nprint 'Before calling func(), x is: ', x\\nfunc()\\nprint 'Value of x (outside of func()) is: ', x\",\n",
       "  u'globals()'],\n",
       " 'Out': {15: <function len>},\n",
       " '_': <function len>,\n",
       " '_15': <function len>,\n",
       " '__': '',\n",
       " '___': '',\n",
       " '__builtin__': <module '__builtin__' (built-in)>,\n",
       " '__builtins__': <module '__builtin__' (built-in)>,\n",
       " '__doc__': 'Automatically created module for IPython interactive environment',\n",
       " '__name__': '__main__',\n",
       " '_dh': [u'C:\\\\Users\\\\hp'],\n",
       " '_i': u\"x = 50\\n\\ndef func():\\n    global x\\n    print 'This function is now using the global x!'\\n    print 'Because of global x is:', x\\n    x = 2\\n    print 'Ran func(), changed global x to', x\\n    \\nprint 'Before calling func(), x is: ', x\\nfunc()\\nprint 'Value of x (outside of func()) is: ', x\",\n",
       " '_i1': u'scope',\n",
       " '_i10': u\"name = 'This is a global name'\\n\\ndef greet()\",\n",
       " '_i11': u\"name = 'This is a global name'\\n\\ndef greet():\\n    # Enclosing function\\n    name = 'Sammy'\",\n",
       " '_i12': u\"name = 'This is a global name'\\n\\ndef greet():\\n    # Enclosing function\\n    name = 'Sammy'\\n    \\n    def hello():\\n        print 'Hello' +name\\n    \\n    hello()\\n\\ngreet()\",\n",
       " '_i13': u\"name = 'This is a global name'\\n\\ndef greet():\\n    # Enclosing function\\n    name = 'Sammy'\\n    \\n    def hello():\\n        print 'Hello ' +name\\n    \\n    hello()\\n\\ngreet()\",\n",
       " '_i14': u'print name',\n",
       " '_i15': u'len',\n",
       " '_i16': u\"x = 50\\n\\ndef func(x):\\n    print 'x is', x\\n    x = 2\\n    print 'Changed local x to', x\",\n",
       " '_i17': u\"x = 50\\n\\ndef func(x):\\n    print 'x is', x\\n    x = 2\\n    print 'Changed local x to', x\\n    \\nfunc(x)\\nprint 'x is still',x\",\n",
       " '_i18': u'x = 50\\n\\ndef func():',\n",
       " '_i19': u\"x = 50\\n\\ndef func():\\n    global x\\n    print 'This function is now using the global x!'\\n    print 'Because of global x is:', x\",\n",
       " '_i2': u'x = 25',\n",
       " '_i20': u\"x = 50\\n\\ndef func():\\n    global x\\n    print 'This function is now using the global x!'\\n    print 'Because of global x is:', x\\n    x = 2\\n    print 'Ran func(), changed global x to', x\\n    \\nprint 'Before calling func(), x is: ', x\\nfunc()\",\n",
       " '_i21': u\"x = 50\\n\\ndef func():\\n    global x\\n    print 'This function is now using the global x!'\\n    print 'Because of global x is:', x\\n    x = 2\\n    print 'Ran func(), changed global x to', x\\n    \\nprint 'Before calling func(), x is: ', x\\nfunc()\\nprint 'Value of x (outside of func()) is: ', x\",\n",
       " '_i22': u'globals()',\n",
       " '_i3': u'x = 25\\n\\ndef printer():\\n    x = 50\\n    ',\n",
       " '_i4': u'x = 25\\n\\ndef printer():\\n    x = 50\\n    return x\\n    ',\n",
       " '_i5': u'x = 25\\n\\ndef printer():\\n    x = 50\\n    return x\\nprint x\\nprint printer()    ',\n",
       " '_i6': u'print printer()',\n",
       " '_i7': u'print x',\n",
       " '_i8': u'#-local\\n#-enclosing functions\\n#-global\\n#-built-in',\n",
       " '_i9': u'# x is local here:\\nf = lambda x:x**2',\n",
       " '_ih': ['',\n",
       "  u'scope',\n",
       "  u'x = 25',\n",
       "  u'x = 25\\n\\ndef printer():\\n    x = 50\\n    ',\n",
       "  u'x = 25\\n\\ndef printer():\\n    x = 50\\n    return x\\n    ',\n",
       "  u'x = 25\\n\\ndef printer():\\n    x = 50\\n    return x\\nprint x\\nprint printer()    ',\n",
       "  u'print printer()',\n",
       "  u'print x',\n",
       "  u'#-local\\n#-enclosing functions\\n#-global\\n#-built-in',\n",
       "  u'# x is local here:\\nf = lambda x:x**2',\n",
       "  u\"name = 'This is a global name'\\n\\ndef greet()\",\n",
       "  u\"name = 'This is a global name'\\n\\ndef greet():\\n    # Enclosing function\\n    name = 'Sammy'\",\n",
       "  u\"name = 'This is a global name'\\n\\ndef greet():\\n    # Enclosing function\\n    name = 'Sammy'\\n    \\n    def hello():\\n        print 'Hello' +name\\n    \\n    hello()\\n\\ngreet()\",\n",
       "  u\"name = 'This is a global name'\\n\\ndef greet():\\n    # Enclosing function\\n    name = 'Sammy'\\n    \\n    def hello():\\n        print 'Hello ' +name\\n    \\n    hello()\\n\\ngreet()\",\n",
       "  u'print name',\n",
       "  u'len',\n",
       "  u\"x = 50\\n\\ndef func(x):\\n    print 'x is', x\\n    x = 2\\n    print 'Changed local x to', x\",\n",
       "  u\"x = 50\\n\\ndef func(x):\\n    print 'x is', x\\n    x = 2\\n    print 'Changed local x to', x\\n    \\nfunc(x)\\nprint 'x is still',x\",\n",
       "  u'x = 50\\n\\ndef func():',\n",
       "  u\"x = 50\\n\\ndef func():\\n    global x\\n    print 'This function is now using the global x!'\\n    print 'Because of global x is:', x\",\n",
       "  u\"x = 50\\n\\ndef func():\\n    global x\\n    print 'This function is now using the global x!'\\n    print 'Because of global x is:', x\\n    x = 2\\n    print 'Ran func(), changed global x to', x\\n    \\nprint 'Before calling func(), x is: ', x\\nfunc()\",\n",
       "  u\"x = 50\\n\\ndef func():\\n    global x\\n    print 'This function is now using the global x!'\\n    print 'Because of global x is:', x\\n    x = 2\\n    print 'Ran func(), changed global x to', x\\n    \\nprint 'Before calling func(), x is: ', x\\nfunc()\\nprint 'Value of x (outside of func()) is: ', x\",\n",
       "  u'globals()'],\n",
       " '_ii': u\"x = 50\\n\\ndef func():\\n    global x\\n    print 'This function is now using the global x!'\\n    print 'Because of global x is:', x\\n    x = 2\\n    print 'Ran func(), changed global x to', x\\n    \\nprint 'Before calling func(), x is: ', x\\nfunc()\",\n",
       " '_iii': u\"x = 50\\n\\ndef func():\\n    global x\\n    print 'This function is now using the global x!'\\n    print 'Because of global x is:', x\",\n",
       " '_oh': {15: <function len>},\n",
       " '_sh': <module 'IPython.core.shadowns' from 'C:\\Users\\hp\\Anaconda2\\lib\\site-packages\\IPython\\core\\shadowns.pyc'>,\n",
       " 'exit': <IPython.core.autocall.ZMQExitAutocall at 0x4291400>,\n",
       " 'f': <function __main__.<lambda>>,\n",
       " 'func': <function __main__.func>,\n",
       " 'get_ipython': <bound method ZMQInteractiveShell.get_ipython of <ipykernel.zmqshell.ZMQInteractiveShell object at 0x0000000004845160>>,\n",
       " 'greet': <function __main__.greet>,\n",
       " 'name': 'This is a global name',\n",
       " 'printer': <function __main__.printer>,\n",
       " 'quit': <IPython.core.autocall.ZMQExitAutocall at 0x4291400>,\n",
       " 'x': 2}"
      ]
     },
     "execution_count": 22,
     "metadata": {},
     "output_type": "execute_result"
    }
   ],
   "source": [
    "globals()"
   ]
  },
  {
   "cell_type": "code",
   "execution_count": 23,
   "metadata": {},
   "outputs": [
    {
     "data": {
      "text/plain": [
       "{'In': ['',\n",
       "  u'scope',\n",
       "  u'x = 25',\n",
       "  u'x = 25\\n\\ndef printer():\\n    x = 50\\n    ',\n",
       "  u'x = 25\\n\\ndef printer():\\n    x = 50\\n    return x\\n    ',\n",
       "  u'x = 25\\n\\ndef printer():\\n    x = 50\\n    return x\\nprint x\\nprint printer()    ',\n",
       "  u'print printer()',\n",
       "  u'print x',\n",
       "  u'#-local\\n#-enclosing functions\\n#-global\\n#-built-in',\n",
       "  u'# x is local here:\\nf = lambda x:x**2',\n",
       "  u\"name = 'This is a global name'\\n\\ndef greet()\",\n",
       "  u\"name = 'This is a global name'\\n\\ndef greet():\\n    # Enclosing function\\n    name = 'Sammy'\",\n",
       "  u\"name = 'This is a global name'\\n\\ndef greet():\\n    # Enclosing function\\n    name = 'Sammy'\\n    \\n    def hello():\\n        print 'Hello' +name\\n    \\n    hello()\\n\\ngreet()\",\n",
       "  u\"name = 'This is a global name'\\n\\ndef greet():\\n    # Enclosing function\\n    name = 'Sammy'\\n    \\n    def hello():\\n        print 'Hello ' +name\\n    \\n    hello()\\n\\ngreet()\",\n",
       "  u'print name',\n",
       "  u'len',\n",
       "  u\"x = 50\\n\\ndef func(x):\\n    print 'x is', x\\n    x = 2\\n    print 'Changed local x to', x\",\n",
       "  u\"x = 50\\n\\ndef func(x):\\n    print 'x is', x\\n    x = 2\\n    print 'Changed local x to', x\\n    \\nfunc(x)\\nprint 'x is still',x\",\n",
       "  u'x = 50\\n\\ndef func():',\n",
       "  u\"x = 50\\n\\ndef func():\\n    global x\\n    print 'This function is now using the global x!'\\n    print 'Because of global x is:', x\",\n",
       "  u\"x = 50\\n\\ndef func():\\n    global x\\n    print 'This function is now using the global x!'\\n    print 'Because of global x is:', x\\n    x = 2\\n    print 'Ran func(), changed global x to', x\\n    \\nprint 'Before calling func(), x is: ', x\\nfunc()\",\n",
       "  u\"x = 50\\n\\ndef func():\\n    global x\\n    print 'This function is now using the global x!'\\n    print 'Because of global x is:', x\\n    x = 2\\n    print 'Ran func(), changed global x to', x\\n    \\nprint 'Before calling func(), x is: ', x\\nfunc()\\nprint 'Value of x (outside of func()) is: ', x\",\n",
       "  u'globals()',\n",
       "  u'locals()'],\n",
       " 'Out': {15: <function len>, 22: {...}},\n",
       " '_': {...},\n",
       " '_15': <function len>,\n",
       " '_22': {...},\n",
       " '__': <function len>,\n",
       " '___': '',\n",
       " '__builtin__': <module '__builtin__' (built-in)>,\n",
       " '__builtins__': <module '__builtin__' (built-in)>,\n",
       " '__doc__': 'Automatically created module for IPython interactive environment',\n",
       " '__name__': '__main__',\n",
       " '_dh': [u'C:\\\\Users\\\\hp'],\n",
       " '_i': u'globals()',\n",
       " '_i1': u'scope',\n",
       " '_i10': u\"name = 'This is a global name'\\n\\ndef greet()\",\n",
       " '_i11': u\"name = 'This is a global name'\\n\\ndef greet():\\n    # Enclosing function\\n    name = 'Sammy'\",\n",
       " '_i12': u\"name = 'This is a global name'\\n\\ndef greet():\\n    # Enclosing function\\n    name = 'Sammy'\\n    \\n    def hello():\\n        print 'Hello' +name\\n    \\n    hello()\\n\\ngreet()\",\n",
       " '_i13': u\"name = 'This is a global name'\\n\\ndef greet():\\n    # Enclosing function\\n    name = 'Sammy'\\n    \\n    def hello():\\n        print 'Hello ' +name\\n    \\n    hello()\\n\\ngreet()\",\n",
       " '_i14': u'print name',\n",
       " '_i15': u'len',\n",
       " '_i16': u\"x = 50\\n\\ndef func(x):\\n    print 'x is', x\\n    x = 2\\n    print 'Changed local x to', x\",\n",
       " '_i17': u\"x = 50\\n\\ndef func(x):\\n    print 'x is', x\\n    x = 2\\n    print 'Changed local x to', x\\n    \\nfunc(x)\\nprint 'x is still',x\",\n",
       " '_i18': u'x = 50\\n\\ndef func():',\n",
       " '_i19': u\"x = 50\\n\\ndef func():\\n    global x\\n    print 'This function is now using the global x!'\\n    print 'Because of global x is:', x\",\n",
       " '_i2': u'x = 25',\n",
       " '_i20': u\"x = 50\\n\\ndef func():\\n    global x\\n    print 'This function is now using the global x!'\\n    print 'Because of global x is:', x\\n    x = 2\\n    print 'Ran func(), changed global x to', x\\n    \\nprint 'Before calling func(), x is: ', x\\nfunc()\",\n",
       " '_i21': u\"x = 50\\n\\ndef func():\\n    global x\\n    print 'This function is now using the global x!'\\n    print 'Because of global x is:', x\\n    x = 2\\n    print 'Ran func(), changed global x to', x\\n    \\nprint 'Before calling func(), x is: ', x\\nfunc()\\nprint 'Value of x (outside of func()) is: ', x\",\n",
       " '_i22': u'globals()',\n",
       " '_i23': u'locals()',\n",
       " '_i3': u'x = 25\\n\\ndef printer():\\n    x = 50\\n    ',\n",
       " '_i4': u'x = 25\\n\\ndef printer():\\n    x = 50\\n    return x\\n    ',\n",
       " '_i5': u'x = 25\\n\\ndef printer():\\n    x = 50\\n    return x\\nprint x\\nprint printer()    ',\n",
       " '_i6': u'print printer()',\n",
       " '_i7': u'print x',\n",
       " '_i8': u'#-local\\n#-enclosing functions\\n#-global\\n#-built-in',\n",
       " '_i9': u'# x is local here:\\nf = lambda x:x**2',\n",
       " '_ih': ['',\n",
       "  u'scope',\n",
       "  u'x = 25',\n",
       "  u'x = 25\\n\\ndef printer():\\n    x = 50\\n    ',\n",
       "  u'x = 25\\n\\ndef printer():\\n    x = 50\\n    return x\\n    ',\n",
       "  u'x = 25\\n\\ndef printer():\\n    x = 50\\n    return x\\nprint x\\nprint printer()    ',\n",
       "  u'print printer()',\n",
       "  u'print x',\n",
       "  u'#-local\\n#-enclosing functions\\n#-global\\n#-built-in',\n",
       "  u'# x is local here:\\nf = lambda x:x**2',\n",
       "  u\"name = 'This is a global name'\\n\\ndef greet()\",\n",
       "  u\"name = 'This is a global name'\\n\\ndef greet():\\n    # Enclosing function\\n    name = 'Sammy'\",\n",
       "  u\"name = 'This is a global name'\\n\\ndef greet():\\n    # Enclosing function\\n    name = 'Sammy'\\n    \\n    def hello():\\n        print 'Hello' +name\\n    \\n    hello()\\n\\ngreet()\",\n",
       "  u\"name = 'This is a global name'\\n\\ndef greet():\\n    # Enclosing function\\n    name = 'Sammy'\\n    \\n    def hello():\\n        print 'Hello ' +name\\n    \\n    hello()\\n\\ngreet()\",\n",
       "  u'print name',\n",
       "  u'len',\n",
       "  u\"x = 50\\n\\ndef func(x):\\n    print 'x is', x\\n    x = 2\\n    print 'Changed local x to', x\",\n",
       "  u\"x = 50\\n\\ndef func(x):\\n    print 'x is', x\\n    x = 2\\n    print 'Changed local x to', x\\n    \\nfunc(x)\\nprint 'x is still',x\",\n",
       "  u'x = 50\\n\\ndef func():',\n",
       "  u\"x = 50\\n\\ndef func():\\n    global x\\n    print 'This function is now using the global x!'\\n    print 'Because of global x is:', x\",\n",
       "  u\"x = 50\\n\\ndef func():\\n    global x\\n    print 'This function is now using the global x!'\\n    print 'Because of global x is:', x\\n    x = 2\\n    print 'Ran func(), changed global x to', x\\n    \\nprint 'Before calling func(), x is: ', x\\nfunc()\",\n",
       "  u\"x = 50\\n\\ndef func():\\n    global x\\n    print 'This function is now using the global x!'\\n    print 'Because of global x is:', x\\n    x = 2\\n    print 'Ran func(), changed global x to', x\\n    \\nprint 'Before calling func(), x is: ', x\\nfunc()\\nprint 'Value of x (outside of func()) is: ', x\",\n",
       "  u'globals()',\n",
       "  u'locals()'],\n",
       " '_ii': u\"x = 50\\n\\ndef func():\\n    global x\\n    print 'This function is now using the global x!'\\n    print 'Because of global x is:', x\\n    x = 2\\n    print 'Ran func(), changed global x to', x\\n    \\nprint 'Before calling func(), x is: ', x\\nfunc()\\nprint 'Value of x (outside of func()) is: ', x\",\n",
       " '_iii': u\"x = 50\\n\\ndef func():\\n    global x\\n    print 'This function is now using the global x!'\\n    print 'Because of global x is:', x\\n    x = 2\\n    print 'Ran func(), changed global x to', x\\n    \\nprint 'Before calling func(), x is: ', x\\nfunc()\",\n",
       " '_oh': {15: <function len>, 22: {...}},\n",
       " '_sh': <module 'IPython.core.shadowns' from 'C:\\Users\\hp\\Anaconda2\\lib\\site-packages\\IPython\\core\\shadowns.pyc'>,\n",
       " 'exit': <IPython.core.autocall.ZMQExitAutocall at 0x4291400>,\n",
       " 'f': <function __main__.<lambda>>,\n",
       " 'func': <function __main__.func>,\n",
       " 'get_ipython': <bound method ZMQInteractiveShell.get_ipython of <ipykernel.zmqshell.ZMQInteractiveShell object at 0x0000000004845160>>,\n",
       " 'greet': <function __main__.greet>,\n",
       " 'name': 'This is a global name',\n",
       " 'printer': <function __main__.printer>,\n",
       " 'quit': <IPython.core.autocall.ZMQExitAutocall at 0x4291400>,\n",
       " 'x': 2}"
      ]
     },
     "execution_count": 23,
     "metadata": {},
     "output_type": "execute_result"
    }
   ],
   "source": [
    "locals()"
   ]
  },
  {
   "cell_type": "code",
   "execution_count": null,
   "metadata": {
    "collapsed": true
   },
   "outputs": [],
   "source": []
  }
 ],
 "metadata": {
  "kernelspec": {
   "display_name": "Python 2",
   "language": "python",
   "name": "python2"
  },
  "language_info": {
   "codemirror_mode": {
    "name": "ipython",
    "version": 2
   },
   "file_extension": ".py",
   "mimetype": "text/x-python",
   "name": "python",
   "nbconvert_exporter": "python",
   "pygments_lexer": "ipython2",
   "version": "2.7.13"
  }
 },
 "nbformat": 4,
 "nbformat_minor": 2
}
