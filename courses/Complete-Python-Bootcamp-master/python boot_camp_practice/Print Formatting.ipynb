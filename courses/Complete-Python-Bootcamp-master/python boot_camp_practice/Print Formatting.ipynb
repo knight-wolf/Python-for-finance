{
 "cells": [
  {
   "cell_type": "markdown",
   "metadata": {},
   "source": [
    "Print Formatting"
   ]
  },
  {
   "cell_type": "markdown",
   "metadata": {},
   "source": [
    "# Command Mode (press Esc to enable)Edit Shortcuts\n",
    "\n",
    "F\n",
    ": find and replace\n",
    "Ctrl-Shift-F\n",
    ": open the command palette\n",
    "Ctrl-Shift-P\n",
    ": open the command palette\n",
    "Enter\n",
    ": enter edit mode\n",
    "P\n",
    ": open the command palette\n",
    "Shift-Enter\n",
    ": run cell, select below\n",
    "Ctrl-Enter\n",
    ": run selected cells\n",
    "Alt-Enter\n",
    ": run cell, insert below\n",
    "Y\n",
    ": to code\n",
    "M\n",
    ": to markdown\n",
    "R\n",
    ": to raw\n",
    "1\n",
    ": to heading 1\n",
    "2\n",
    ": to heading 2\n",
    "3\n",
    ": to heading 3\n",
    "4\n",
    ": to heading 4\n",
    "5\n",
    ": to heading 5\n",
    "6\n",
    ": to heading 6\n",
    "K\n",
    ": select cell above\n",
    "Up\n",
    ": select cell above\n",
    "Down\n",
    ": select cell below\n",
    "J\n",
    ": select cell below\n",
    "Shift-K\n",
    ": extend selected cells above\n",
    "Shift-Up\n",
    ": extend selected cells above\n",
    "Shift-Down\n",
    ": extend selected cells below\n",
    "Shift-J\n",
    ": extend selected cells below\n",
    "A\n",
    ": insert cell above\n",
    "B\n",
    ": insert cell below\n",
    "X\n",
    ": cut selected cells\n",
    "C\n",
    ": copy selected cells\n",
    "Shift-V\n",
    ": paste cells above\n",
    "V\n",
    ": paste cells below\n",
    "Z\n",
    ": undo cell deletion\n",
    "D,D\n",
    ": delete selected cells\n",
    "Shift-M\n",
    ": merge selected cells, or current cell with cell below if only one cell selected\n",
    "Ctrl-S\n",
    ": Save and Checkpoint\n",
    "S\n",
    ": Save and Checkpoint\n",
    "L\n",
    ": toggle line numbers\n",
    "O\n",
    ": toggle output of selected cells\n",
    "Shift-O\n",
    ": toggle output scrolling of selected cells\n",
    "H\n",
    ": show keyboard shortcuts\n",
    "I,I\n",
    ": interrupt kernel\n",
    "0,0\n",
    ": restart the kernel (with dialog)\n",
    "Esc\n",
    ": close the pager\n",
    "Q\n",
    ": close the pager\n",
    "Shift-L\n",
    ": toggles line numbers in all cells, and persist the setting\n",
    "Shift-Space\n",
    ": scroll notebook up\n",
    "Space\n",
    ": scroll notebook down\n",
    "Edit Mode (press Enter to enable)\n",
    "\n",
    "Tab\n",
    ": code completion or indent\n",
    "Shift-Tab\n",
    ": tooltip\n",
    "Ctrl-]\n",
    ": indent\n",
    "Ctrl-[\n",
    ": dedent\n",
    "Ctrl-A\n",
    ": select all\n",
    "Ctrl-Z\n",
    ": undo\n",
    "Ctrl-Shift-Z\n",
    ": redo\n",
    "Ctrl-Y\n",
    ": redo\n",
    "Ctrl-Home\n",
    ": go to cell start\n",
    "Ctrl-Up\n",
    ": go to cell start\n",
    "Ctrl-End\n",
    ": go to cell end\n",
    "Ctrl-Down\n",
    ": go to cell end\n",
    "Ctrl-Left\n",
    ": go one word left\n",
    "Ctrl-Right\n",
    ": go one word right\n",
    "Ctrl-Backspace\n",
    ": delete word before\n",
    "Ctrl-Delete\n",
    ": delete word after\n",
    "Ctrl-M\n",
    ": command mode\n",
    "Ctrl-Shift-F\n",
    ": open the command palette\n",
    "Ctrl-Shift-P\n",
    ": open the command palette\n",
    "Esc\n",
    ": command mode\n",
    "Shift-Enter\n",
    ": run cell, select below\n",
    "Ctrl-Enter\n",
    ": run selected cells\n",
    "Alt-Enter\n",
    ": run cell, insert below\n",
    "Ctrl-Shift-Minus\n",
    ": split cell\n",
    "Ctrl-S\n",
    ": Save and Checkpoint\n",
    "Down\n",
    ": move cursor down\n",
    "Up\n",
    ": move cursor up\n",
    "\n"
   ]
  },
  {
   "cell_type": "code",
   "execution_count": 1,
   "metadata": {},
   "outputs": [
    {
     "name": "stdout",
     "output_type": "stream",
     "text": [
      "This is a string\n"
     ]
    }
   ],
   "source": [
    "print 'This is a string'"
   ]
  },
  {
   "cell_type": "code",
   "execution_count": 2,
   "metadata": {},
   "outputs": [
    {
     "name": "stdout",
     "output_type": "stream",
     "text": [
      "Place my variable here: %(s)\n"
     ]
    }
   ],
   "source": [
    "s = 'string'\n",
    "print 'Place my variable here: %(s)'"
   ]
  },
  {
   "cell_type": "code",
   "execution_count": 3,
   "metadata": {},
   "outputs": [
    {
     "name": "stdout",
     "output_type": "stream",
     "text": [
      "Place my variable here string\n"
     ]
    }
   ],
   "source": [
    "print('Place my variable here %s' %(s))"
   ]
  },
  {
   "cell_type": "code",
   "execution_count": 4,
   "metadata": {},
   "outputs": [
    {
     "name": "stdout",
     "output_type": "stream",
     "text": [
      "This is a string\n"
     ]
    }
   ],
   "source": [
    "print'This is a string'"
   ]
  },
  {
   "cell_type": "code",
   "execution_count": 10,
   "metadata": {
    "collapsed": true
   },
   "outputs": [],
   "source": [
    "x = 13.13"
   ]
  },
  {
   "cell_type": "code",
   "execution_count": 11,
   "metadata": {},
   "outputs": [
    {
     "name": "stdout",
     "output_type": "stream",
     "text": [
      "Place my variable here: 13.13\n"
     ]
    }
   ],
   "source": [
    "print'Place my variable here: %s' %(x)"
   ]
  },
  {
   "cell_type": "code",
   "execution_count": 18,
   "metadata": {},
   "outputs": [
    {
     "name": "stdout",
     "output_type": "stream",
     "text": [
      "Floating point number: 13.145\n"
     ]
    }
   ],
   "source": [
    "print 'Floating point number: %1.3f' %(13.145)"
   ]
  },
  {
   "cell_type": "code",
   "execution_count": 21,
   "metadata": {},
   "outputs": [
    {
     "name": "stdout",
     "output_type": "stream",
     "text": [
      "Convert to string 123\n"
     ]
    }
   ],
   "source": [
    "print 'Convert to string %s' %(123)"
   ]
  },
  {
   "cell_type": "code",
   "execution_count": 20,
   "metadata": {},
   "outputs": [
    {
     "name": "stdout",
     "output_type": "stream",
     "text": [
      "Conver to string 123\n"
     ]
    }
   ],
   "source": [
    "print 'Conver to string %r' %(123)"
   ]
  },
  {
   "cell_type": "code",
   "execution_count": 22,
   "metadata": {},
   "outputs": [
    {
     "name": "stdout",
     "output_type": "stream",
     "text": [
      "First: hi, Second: two, Third 3\n"
     ]
    }
   ],
   "source": [
    "print 'First: %s, Second: %s, Third %s' %('hi','two',3)"
   ]
  },
  {
   "cell_type": "code",
   "execution_count": 23,
   "metadata": {},
   "outputs": [
    {
     "name": "stdout",
     "output_type": "stream",
     "text": [
      "First: 2, Second: 2\n"
     ]
    }
   ],
   "source": [
    "print 'First: %s, Second: %s' %(2,2)"
   ]
  },
  {
   "cell_type": "code",
   "execution_count": 24,
   "metadata": {},
   "outputs": [
    {
     "name": "stdout",
     "output_type": "stream",
     "text": [
      "First: inserted Second: inserted\n"
     ]
    }
   ],
   "source": [
    "print 'First: {x} Second: {x}'.format(x= 'inserted')"
   ]
  },
  {
   "cell_type": "code",
   "execution_count": 25,
   "metadata": {},
   "outputs": [
    {
     "name": "stdout",
     "output_type": "stream",
     "text": [
      "First: insterted, Second: two!, Third: insterted\n"
     ]
    }
   ],
   "source": [
    "print 'First: {x}, Second: {y}, Third: {x}'.format(x = 'insterted', y = 'two!')"
   ]
  },
  {
   "cell_type": "code",
   "execution_count": 26,
   "metadata": {},
   "outputs": [
    {
     "name": "stdout",
     "output_type": "stream",
     "text": [
      "First: inserted, Second: mist, Third: true\n"
     ]
    }
   ],
   "source": [
    " print 'First: {x}, Second: {y}, Third: {z}'.format(x = 'inserted', y = 'mist', \n",
    "                                                   z = 'true')"
   ]
  },
  {
   "cell_type": "code",
   "execution_count": 28,
   "metadata": {},
   "outputs": [],
   "source": [
    " from __future__ import print_function"
   ]
  },
  {
   "cell_type": "code",
   "execution_count": 29,
   "metadata": {},
   "outputs": [
    {
     "name": "stdout",
     "output_type": "stream",
     "text": [
      "hello\n"
     ]
    }
   ],
   "source": [
    "print('hello')"
   ]
  },
  {
   "cell_type": "code",
   "execution_count": 30,
   "metadata": {
    "collapsed": true
   },
   "outputs": [],
   "source": [
    "from __future__ import print_function"
   ]
  },
  {
   "cell_type": "code",
   "execution_count": 34,
   "metadata": {},
   "outputs": [
    {
     "name": "stdout",
     "output_type": "stream",
     "text": [
      "One: INSERT!\n"
     ]
    }
   ],
   "source": [
    "print('One: {x}'.format(x = 'INSERT!'))"
   ]
  },
  {
   "cell_type": "code",
   "execution_count": 35,
   "metadata": {},
   "outputs": [
    {
     "ename": "SyntaxError",
     "evalue": "invalid syntax (<ipython-input-35-788c64630141>, line 1)",
     "output_type": "error",
     "traceback": [
      "\u001b[1;36m  File \u001b[1;32m\"<ipython-input-35-788c64630141>\"\u001b[1;36m, line \u001b[1;32m1\u001b[0m\n\u001b[1;33m    print 'Hello, world!'\u001b[0m\n\u001b[1;37m                        ^\u001b[0m\n\u001b[1;31mSyntaxError\u001b[0m\u001b[1;31m:\u001b[0m invalid syntax\n"
     ]
    }
   ],
   "source": [
    "print 'Hello, world!'"
   ]
  },
  {
   "cell_type": "code",
   "execution_count": 36,
   "metadata": {},
   "outputs": [
    {
     "name": "stdout",
     "output_type": "stream",
     "text": [
      "Hello, World!\n"
     ]
    }
   ],
   "source": [
    "print ('Hello, World!')"
   ]
  },
  {
   "cell_type": "code",
   "execution_count": 37,
   "metadata": {},
   "outputs": [
    {
     "data": {
      "text/plain": [
       "0"
      ]
     },
     "execution_count": 37,
     "metadata": {},
     "output_type": "execute_result"
    }
   ],
   "source": [
    "2/3"
   ]
  },
  {
   "cell_type": "code",
   "execution_count": 38,
   "metadata": {},
   "outputs": [
    {
     "data": {
      "text/plain": [
       "1"
      ]
     },
     "execution_count": 38,
     "metadata": {},
     "output_type": "execute_result"
    }
   ],
   "source": [
    "3/2"
   ]
  },
  {
   "cell_type": "code",
   "execution_count": 40,
   "metadata": {},
   "outputs": [],
   "source": [
    "from __future__ import division"
   ]
  },
  {
   "cell_type": "code",
   "execution_count": 41,
   "metadata": {},
   "outputs": [
    {
     "data": {
      "text/plain": [
       "1.5"
      ]
     },
     "execution_count": 41,
     "metadata": {},
     "output_type": "execute_result"
    }
   ],
   "source": [
    "3/2"
   ]
  },
  {
   "cell_type": "code",
   "execution_count": null,
   "metadata": {
    "collapsed": true
   },
   "outputs": [],
   "source": []
  }
 ],
 "metadata": {
  "kernelspec": {
   "display_name": "Python 2",
   "language": "python",
   "name": "python2"
  },
  "language_info": {
   "codemirror_mode": {
    "name": "ipython",
    "version": 2
   },
   "file_extension": ".py",
   "mimetype": "text/x-python",
   "name": "python",
   "nbconvert_exporter": "python",
   "pygments_lexer": "ipython2",
   "version": "2.7.13"
  }
 },
 "nbformat": 4,
 "nbformat_minor": 2
}
