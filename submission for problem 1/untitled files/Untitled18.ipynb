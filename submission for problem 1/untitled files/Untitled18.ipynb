{
 "cells": [
  {
   "cell_type": "code",
   "execution_count": 1,
   "metadata": {
    "collapsed": true
   },
   "outputs": [],
   "source": [
    "A = 'BWU CHV CUN CYD DFZ FCY FFS FKI FUR GFQ GYJ GYV IFL JSG KMV MAS MQK NDG NSL OGU PUO SVG TGI UBF UWC UWD VKE VML VND WTJ XIT XZR YGC YUZ ZEW'.split()"
   ]
  },
  {
   "cell_type": "code",
   "execution_count": 3,
   "metadata": {
    "collapsed": true
   },
   "outputs": [],
   "source": [
    "B = 'FCY FFS FKI FUR GFQ GYJ IFL JSG MAS PUO UBF UWD VND XIT YGC ZEW TGI VML VKE WTJ'.split()"
   ]
  },
  {
   "cell_type": "code",
   "execution_count": 10,
   "metadata": {
    "collapsed": true
   },
   "outputs": [],
   "source": [
    "c = 'FCY FFS FKI IFL NSL UBF VKE WTJ XIT YGC AUZ CBT DVV GFQ KMV MAS MUF OED ZEW VML'.split()"
   ]
  },
  {
   "cell_type": "code",
   "execution_count": 15,
   "metadata": {
    "collapsed": true
   },
   "outputs": [],
   "source": [
    "A2 = 'FCY FFS FKI GFQ IFL MQK NSL UBF UWC VKE VML WTJ XIT YGC ZEW TGI UWD MAS KMV CUN'.split()"
   ]
  }
 ],
 "metadata": {
  "kernelspec": {
   "display_name": "Python 2",
   "language": "python",
   "name": "python2"
  },
  "language_info": {
   "codemirror_mode": {
    "name": "ipython",
    "version": 2
   },
   "file_extension": ".py",
   "mimetype": "text/x-python",
   "name": "python",
   "nbconvert_exporter": "python",
   "pygments_lexer": "ipython2",
   "version": "2.7.13"
  }
 },
 "nbformat": 4,
 "nbformat_minor": 2
}
